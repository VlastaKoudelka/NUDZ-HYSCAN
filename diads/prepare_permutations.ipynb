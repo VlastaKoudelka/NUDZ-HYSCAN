{
 "cells": [
  {
   "cell_type": "markdown",
   "id": "5cb73aa8-398c-4eeb-8cb0-96ad7e7e1096",
   "metadata": {},
   "source": [
    "## Compute permutations\n",
    "\n",
    "This script reads the epoched data already imported from BVA, resampled, preprocessed and merged across subjects\n",
    "and compute the both surrogate distribution of connectivity matrices and the true connectivity matrix.\n",
    "\n",
    "No orthogonalization is used for surrogate distribution (which drastically increases the speed) because the signals are \n",
    "randomly shifted in time with respect to each other during each iteration\n",
    "\n",
    "### Parameters to consider:\n",
    "    numPerm = 500 - a number of permutations\n",
    "    shiftEpch = 20 - a max number of epochs shift (measured in epochs, the overlap is not taken into acount)\n",
    "\n",
    "### Inputs:\n",
    "    pipePath  - path to a pipe folder containing epoch data\n",
    "    fileName  - name of the epoch data (condition specific)\n",
    "    \n",
    "### Outputs:\n",
    "    corrMat - the data correlation matrix (lower triangle)\n",
    "    corrMatSurr - surrogate distribution of correlation matrices"
   ]
  },
  {
   "cell_type": "markdown",
   "id": "0b07c62c-e154-4316-a00c-95d91d1e41ce",
   "metadata": {},
   "source": [
    "### Define a working directory and load data\n",
    "- define a number of conditions nC\n",
    "- define a number of groups nG"
   ]
  },
  {
   "cell_type": "code",
   "execution_count": 31,
   "id": "366b8e74-bd88-4ef7-a7f7-a3b6230a9566",
   "metadata": {},
   "outputs": [
    {
     "name": "stdout",
     "output_type": "stream",
     "text": [
      "nEpochs: 238 nChan: 64 nSamp: 128\n"
     ]
    }
   ],
   "source": [
    "import numpy as np\n",
    "\n",
    "def init_list(dims, val):\n",
    "    if len(dims) == 0:\n",
    "        raise ValueError(\"Requires at least 1 dimension.\")\n",
    "    if len(dims) == 1:\n",
    "        return [val for _ in range(dims[0])]\n",
    "    return [init_list(dims[1:], val=val) for _ in range(dims[0])]\n",
    "\n",
    "\n",
    "#Load the data:\n",
    "pipePath = '/home/koudelka/Projects/LSD_FilipTrybusek/pipe/'\n",
    "nC = 2\n",
    "nG = 1\n",
    "\n",
    "epochData = init_list((nC,nG),val=0)\n",
    "\n",
    "for cIdx in range(0,nC):\n",
    "    for gIdx in range(0,nG):\n",
    "        epochData[cIdx][gIdx] = np.load(pipePath + 'c' + str(cIdx) + 'g' + str(gIdx) + '.npz')[\"epochData\"] \n",
    "        \n",
    "\n",
    "nEpoch, nChan, nSamp = epochData[0][0].shape\n",
    "print('nEpochs: ' + str(nEpoch) + ' nChan: ' + str(nChan) + ' nSamp: ' + str(nSamp))"
   ]
  },
  {
   "cell_type": "markdown",
   "id": "f5ce11cc-a065-4a59-8190-07c52b015370",
   "metadata": {},
   "source": [
    "### Exclude or reduce some epochs if needed - skip "
   ]
  },
  {
   "cell_type": "code",
   "execution_count": 11,
   "id": "7a57198a-b18a-43f7-97e9-d9366f33135b",
   "metadata": {},
   "outputs": [],
   "source": [
    "#decim = 5\n",
    "#epochData = epochData[0:-1:decim,:,:]\n",
    "#newNEpoch = epochData[0][0].shape[0]\n",
    "#newNEpoch"
   ]
  },
  {
   "cell_type": "markdown",
   "id": "663f1adb-5329-4d49-9053-0fd5d2c899c8",
   "metadata": {},
   "source": [
    "### Define functions"
   ]
  },
  {
   "cell_type": "code",
   "execution_count": 32,
   "id": "9ffb1aaf-ab53-408a-aba5-5ca04287adde",
   "metadata": {},
   "outputs": [],
   "source": [
    "def pairwise_correlation(A, B):\n",
    "    am = A - np.mean(A, axis=0, keepdims=True)\n",
    "    bm = B - np.mean(B, axis=0, keepdims=True)\n",
    "    return am.T @ bm /  (np.sqrt(\n",
    "        np.sum(am**2, axis=0,\n",
    "               keepdims=True)).T * np.sqrt(\n",
    "        np.sum(bm**2, axis=0, keepdims=True)))\n",
    "\n",
    "def atin_powCorr_compute(epochsData):    \n",
    "    nEpoch, nChan, nSamp = epochsData.shape\n",
    "#prepare two arrays for orthogonalization and correlation\n",
    "    x = np.zeros((nEpoch,nSamp))\n",
    "    y = np.zeros((nEpoch,nSamp))\n",
    "#prepare a nChanXnChan correlation matrix\n",
    "    corrMat = np.zeros((nChan,nChan))\n",
    "    for chan1Idx in range(0,nChan):\n",
    "        for chan2Idx in range(0,chan1Idx):\n",
    "#a pair of two channels and all Epochs\n",
    "            x = epochsData[:,chan1Idx,:]\n",
    "            y = epochsData[:,chan2Idx,:]\n",
    "#across all epochs orthogonalize\n",
    "            x = np.reshape(x, (nEpoch*nSamp,1),order='C')\n",
    "            y = np.reshape(y, (nEpoch*nSamp,1),order='C')\n",
    "#get the regression coeficient from the pseudoinverse\n",
    "            beta = np.real(np.dot(np.linalg.pinv(x),y))\n",
    "            y= y - beta*x\n",
    "#rehape back to the epochXsamples matrix\n",
    "            x = np.reshape(x, (nEpoch,nSamp),order='C')\n",
    "            y = np.reshape(y, (nEpoch,nSamp),order='C')\n",
    "#compute RMS\n",
    "            xRMS = np.power(x,2)\n",
    "            yRMS = np.power(y,2)\n",
    "            xRMS = np.sqrt(np.mean(xRMS,axis=1))\n",
    "            yRMS = np.sqrt(np.mean(yRMS,axis=1))\n",
    "            corrMat[chan1Idx,chan2Idx] = pairwise_correlation(xRMS, yRMS)\n",
    "    return corrMat\n",
    "\n",
    "def atin_powCorr_compute_surr(epochsData):\n",
    "    nEpoch, nChan = epochsData.shape\n",
    "#prepare a nChanXnChan correlation matrix    \n",
    "    corrMat = np.zeros((nChan,nChan))\n",
    "    for chan1Idx in range(0,nChan):\n",
    "        for chan2Idx in range(0,chan1Idx):            \n",
    "#compute RMS\n",
    "            xRMS = epochsData[:,chan1Idx]\n",
    "            yRMS = epochsData[:,chan2Idx]\n",
    "            corrMat[chan1Idx,chan2Idx] = pairwise_correlation(xRMS, yRMS)\n",
    "    return corrMat          "
   ]
  },
  {
   "cell_type": "markdown",
   "id": "c3b9a687-6704-466d-8cf5-91ac58772712",
   "metadata": {},
   "source": [
    "### Compute the observed correlation matrix\n",
    "- consider the lower triangular matrix is computed to save time\n",
    "  "
   ]
  },
  {
   "cell_type": "code",
   "execution_count": 34,
   "id": "7f85cec1-d0e8-4168-9458-8c6aac94ad81",
   "metadata": {},
   "outputs": [
    {
     "name": "stderr",
     "output_type": "stream",
     "text": [
      "/tmp/ipykernel_3442977/1415114491.py:35: DeprecationWarning: Conversion of an array with ndim > 0 to a scalar is deprecated, and will error in future. Ensure you extract a single element from your array before performing this operation. (Deprecated NumPy 1.25.)\n",
      "  corrMat[chan1Idx,chan2Idx] = pairwise_correlation(xRMS, yRMS)\n"
     ]
    }
   ],
   "source": [
    "corrMat = init_list((nC,nG),val=0)\n",
    "for cIdx, condIns in enumerate(epochData):\n",
    "    for gIdx, groupIns in enumerate(condIns):\n",
    "        corrMat[cIdx][gIdx] = atin_powCorr_compute(groupIns)"
   ]
  },
  {
   "cell_type": "markdown",
   "id": "22f85d85-1a1b-47ca-8b1e-67baa9253377",
   "metadata": {},
   "source": [
    "### and save the results..."
   ]
  },
  {
   "cell_type": "code",
   "execution_count": 35,
   "id": "dfe937bd-cd4b-4378-a2d5-1cae899655e8",
   "metadata": {},
   "outputs": [],
   "source": [
    "for cIdx, condIns in enumerate(corrMat):\n",
    "    for gIdx, groupIns in enumerate(condIns):\n",
    "        np.save(pipePath + 'c' + str(cIdx) + 'g' + str(gIdx) + '_observed', groupIns)"
   ]
  },
  {
   "cell_type": "markdown",
   "id": "6677f970-408b-4e04-ae0e-15ed76cf29d7",
   "metadata": {},
   "source": [
    "### Slightly change the correlation matrix computation:\n",
    "- since we do a random circular shifts in time we do not need to orthogonalize\n",
    "- then we can compute RMS within each epoch before itarating across electrode pairs\n",
    "- this will save us a lot of time and this is implemented in the **corrMatSurr** function"
   ]
  },
  {
   "cell_type": "code",
   "execution_count": 36,
   "id": "b5e2b9cd-9165-459a-b568-572d0587d338",
   "metadata": {
    "scrolled": true
   },
   "outputs": [
    {
     "name": "stdout",
     "output_type": "stream",
     "text": [
      "cond: 0 group: 0 Iter: 1/500\r"
     ]
    },
    {
     "name": "stderr",
     "output_type": "stream",
     "text": [
      "/tmp/ipykernel_3442977/1415114491.py:47: DeprecationWarning: Conversion of an array with ndim > 0 to a scalar is deprecated, and will error in future. Ensure you extract a single element from your array before performing this operation. (Deprecated NumPy 1.25.)\n",
      "  corrMat[chan1Idx,chan2Idx] = pairwise_correlation(xRMS, yRMS)\n"
     ]
    },
    {
     "name": "stdout",
     "output_type": "stream",
     "text": [
      "cond: 1 group: 0 Iter: 499/500\r"
     ]
    }
   ],
   "source": [
    "numPerm = 500\n",
    "shiftEpch = 20\n",
    "\n",
    "#prepare RMS (the computationally demanding step)\n",
    "rmsMat = init_list((nC,nG),val=0)\n",
    "for cIdx in range(0,nC):\n",
    "    for gIdx in range(0,nG):\n",
    "        rmsMat[cIdx][gIdx] =  np.sqrt(np.mean(np.power(epochData[cIdx][gIdx],2),2))\n",
    "\n",
    "\n",
    "\n",
    "corrMatSurr = init_list((nC,nG),val=0)\n",
    "\n",
    "for cIdx, condIns in enumerate(rmsMat):\n",
    "    for gIdx, groupIns in enumerate(condIns):\n",
    "        npCorrMat = []\n",
    "        for iterIdx in range(0,numPerm):\n",
    "            print('cond: ' + str(cIdx) + ' group: ' + str(gIdx) + ' Iter: ' + str(iterIdx) + '/' + str(numPerm), end='\\r')\n",
    "            epochShift = np.copy(groupIns)\n",
    "            for chanIdx in range(0,nChan): \n",
    "                randShift = np.random.randint(-shiftEpch,shiftEpch,1)\n",
    "                epochShift[:,chanIdx] = np.roll(epochShift[:,chanIdx],randShift,axis=0)\n",
    "            npCorrMat.append(atin_powCorr_compute_surr(epochShift))\n",
    "        corrMatSurr[cIdx][gIdx] = np.array(npCorrMat)\n",
    "\n",
    "for cIdx, condIns in enumerate(corrMatSurr):\n",
    "    for gIdx, groupIns in enumerate(condIns):\n",
    "        np.save(pipePath + 'c' + str(cIdx) + 'g' + str(gIdx) + '_surrogate', groupIns)"
   ]
  },
  {
   "cell_type": "markdown",
   "id": "a403024f-6834-4f0d-8485-0875dacfca37",
   "metadata": {},
   "source": [
    "### and save the results again..."
   ]
  },
  {
   "cell_type": "code",
   "execution_count": 37,
   "id": "5c7e447d-f7bc-48da-b2a7-3a2ac185f75f",
   "metadata": {},
   "outputs": [],
   "source": [
    "for cIdx, condIns in enumerate(corrMatSurr):\n",
    "    for gIdx, groupIns in enumerate(condIns):\n",
    "        np.save(pipePath + 'c' + str(cIdx) + 'g' + str(gIdx) + '_surrogate', groupIns)"
   ]
  },
  {
   "cell_type": "code",
   "execution_count": null,
   "id": "c40fca1f-c187-41bf-a004-b8d9dd3fc99e",
   "metadata": {},
   "outputs": [],
   "source": []
  }
 ],
 "metadata": {
  "kernelspec": {
   "display_name": "Python 3 (ipykernel)",
   "language": "python",
   "name": "python3"
  },
  "language_info": {
   "codemirror_mode": {
    "name": "ipython",
    "version": 3
   },
   "file_extension": ".py",
   "mimetype": "text/x-python",
   "name": "python",
   "nbconvert_exporter": "python",
   "pygments_lexer": "ipython3",
   "version": "3.12.3"
  }
 },
 "nbformat": 4,
 "nbformat_minor": 5
}
